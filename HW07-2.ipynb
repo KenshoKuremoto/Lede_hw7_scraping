{
 "cells": [
  {
   "cell_type": "markdown",
   "id": "8c9f11c7-f029-4c7e-9c7c-1be10fce6000",
   "metadata": {},
   "source": [
    "# Kensho Kuremoto\n",
    "## HW07-Part2 Le Monde"
   ]
  },
  {
   "cell_type": "code",
   "execution_count": 4,
   "id": "d354a65b-34d2-4de9-bc6b-850d58bd89ea",
   "metadata": {},
   "outputs": [],
   "source": [
    "import requests\n",
    "from bs4 import BeautifulSoup\n",
    "import pandas as pd\n",
    "\n",
    "url = \"https://www.lemonde.fr/\"\n",
    "\n",
    "response = requests.get(url)\n",
    "soup = BeautifulSoup(response.text, \"html.parser\")"
   ]
  },
  {
   "cell_type": "code",
   "execution_count": 5,
   "id": "5b4ee482-f2e9-4d6f-97f7-77fb6a6ca43a",
   "metadata": {},
   "outputs": [
    {
     "data": {
      "text/html": [
       "<div>\n",
       "<style scoped>\n",
       "    .dataframe tbody tr th:only-of-type {\n",
       "        vertical-align: middle;\n",
       "    }\n",
       "\n",
       "    .dataframe tbody tr th {\n",
       "        vertical-align: top;\n",
       "    }\n",
       "\n",
       "    .dataframe thead th {\n",
       "        text-align: right;\n",
       "    }\n",
       "</style>\n",
       "<table border=\"1\" class=\"dataframe\">\n",
       "  <thead>\n",
       "    <tr style=\"text-align: right;\">\n",
       "      <th></th>\n",
       "      <th>title</th>\n",
       "      <th>subhead</th>\n",
       "      <th>article URL</th>\n",
       "      <th>premium</th>\n",
       "      <th>byline</th>\n",
       "      <th>article type</th>\n",
       "      <th>image URL</th>\n",
       "    </tr>\n",
       "  </thead>\n",
       "  <tbody>\n",
       "    <tr>\n",
       "      <th>0</th>\n",
       "      <td>LiveArticle se déroulant en directL’armée isra...</td>\n",
       "      <td>Israël a poursuivi ses frappes dans la nuit de...</td>\n",
       "      <td>https://www.lemonde.fr/international/live/2025...</td>\n",
       "      <td>Premium</td>\n",
       "      <td>N/A</td>\n",
       "      <td>N/A</td>\n",
       "      <td>https://img.lemde.fr/2025/06/13/0/0/4984/3323/...</td>\n",
       "    </tr>\n",
       "    <tr>\n",
       "      <th>1</th>\n",
       "      <td>A Nogent, une foule pour la marche blanche en ...</td>\n",
       "      <td>Dans ce village encore sonné par le meurtre de...</td>\n",
       "      <td>https://www.lemonde.fr/societe/article/2025/06...</td>\n",
       "      <td>not Premium</td>\n",
       "      <td>N/A</td>\n",
       "      <td>N/A</td>\n",
       "      <td>N/A</td>\n",
       "    </tr>\n",
       "    <tr>\n",
       "      <th>2</th>\n",
       "      <td>En Espagne, l’étau judiciaire se referme autou...</td>\n",
       "      <td>Depuis deux ans, plusieurs proches du présiden...</td>\n",
       "      <td>https://www.lemonde.fr/international/article/2...</td>\n",
       "      <td>Premium</td>\n",
       "      <td>N/A</td>\n",
       "      <td>N/A</td>\n",
       "      <td>N/A</td>\n",
       "    </tr>\n",
       "    <tr>\n",
       "      <th>3</th>\n",
       "      <td>La Coupe du monde des clubs, un tournoi aux al...</td>\n",
       "      <td>Les Etats-Unis accueillent, à partir de samedi...</td>\n",
       "      <td>https://www.lemonde.fr/sport/article/2025/06/1...</td>\n",
       "      <td>Premium</td>\n",
       "      <td>N/A</td>\n",
       "      <td>N/A</td>\n",
       "      <td>N/A</td>\n",
       "    </tr>\n",
       "    <tr>\n",
       "      <th>4</th>\n",
       "      <td>Plongée dans l’enfer de la prison de Fresnes :...</td>\n",
       "      <td>Nous sommes entrés dans cette maison d’arrêt d...</td>\n",
       "      <td>https://www.lemonde.fr/m-le-mag/article/2025/0...</td>\n",
       "      <td>Premium</td>\n",
       "      <td>Olivier Faye</td>\n",
       "      <td>Reportage</td>\n",
       "      <td>N/A</td>\n",
       "    </tr>\n",
       "  </tbody>\n",
       "</table>\n",
       "</div>"
      ],
      "text/plain": [
       "                                               title  \\\n",
       "0  LiveArticle se déroulant en directL’armée isra...   \n",
       "1  A Nogent, une foule pour la marche blanche en ...   \n",
       "2  En Espagne, l’étau judiciaire se referme autou...   \n",
       "3  La Coupe du monde des clubs, un tournoi aux al...   \n",
       "4  Plongée dans l’enfer de la prison de Fresnes :...   \n",
       "\n",
       "                                             subhead  \\\n",
       "0  Israël a poursuivi ses frappes dans la nuit de...   \n",
       "1  Dans ce village encore sonné par le meurtre de...   \n",
       "2  Depuis deux ans, plusieurs proches du présiden...   \n",
       "3  Les Etats-Unis accueillent, à partir de samedi...   \n",
       "4  Nous sommes entrés dans cette maison d’arrêt d...   \n",
       "\n",
       "                                         article URL      premium  \\\n",
       "0  https://www.lemonde.fr/international/live/2025...      Premium   \n",
       "1  https://www.lemonde.fr/societe/article/2025/06...  not Premium   \n",
       "2  https://www.lemonde.fr/international/article/2...      Premium   \n",
       "3  https://www.lemonde.fr/sport/article/2025/06/1...      Premium   \n",
       "4  https://www.lemonde.fr/m-le-mag/article/2025/0...      Premium   \n",
       "\n",
       "         byline article type  \\\n",
       "0           N/A          N/A   \n",
       "1           N/A          N/A   \n",
       "2           N/A          N/A   \n",
       "3           N/A          N/A   \n",
       "4  Olivier Faye    Reportage   \n",
       "\n",
       "                                           image URL  \n",
       "0  https://img.lemde.fr/2025/06/13/0/0/4984/3323/...  \n",
       "1                                                N/A  \n",
       "2                                                N/A  \n",
       "3                                                N/A  \n",
       "4                                                N/A  "
      ]
     },
     "execution_count": 5,
     "metadata": {},
     "output_type": "execute_result"
    }
   ],
   "source": [
    "articles = []\n",
    "\n",
    "article_blocks = soup.find_all(\"div\", class_=\"article\")\n",
    "\n",
    "for article in article_blocks:\n",
    "    try:\n",
    "        # URL\n",
    "        a_tag = article.find(\"a\", href=True)\n",
    "        if not a_tag:\n",
    "            continue\n",
    "\n",
    "        href = a_tag[\"href\"]\n",
    "        article_url = \"https://www.lemonde.fr\" + href if href.startswith(\"/\") else href\n",
    "\n",
    "        # titles\n",
    "        title_tag = article.find(class_=\"article__title\")\n",
    "        title = title_tag.get_text(strip=True) if title_tag else \"N/A\"\n",
    "\n",
    "        # subhead\n",
    "        subhead_tag = article.find(\"p\", class_=\"article__desc\")\n",
    "        subhead = subhead_tag.get_text(strip=True) if subhead_tag else \"N/A\"\n",
    "\n",
    "        # whether it's premium or not\n",
    "        is_premium = \"Premium\" if article.find(class_=\"icon__premium\") else \"not Premium\"\n",
    "\n",
    "        # byline\n",
    "        byline_tag = article.find(\"p\", class_=\"article__byline\")\n",
    "        byline = byline_tag.get_text(strip=True) if byline_tag else \"N/A\"\n",
    "\n",
    "        # article type\n",
    "        type_tag = article.find(\"p\", class_=\"article__type\")\n",
    "        article_type = type_tag.get_text(strip=True) if type_tag else \"N/A\"\n",
    "\n",
    "        # image URL\n",
    "        img_tag = article.find(\"img\")\n",
    "        img_url = img_tag[\"src\"] if img_tag and \"src\" in img_tag.attrs else \"N/A\"\n",
    "\n",
    "        \n",
    "        articles.append({\n",
    "            \"title\": title,\n",
    "            \"subhead\": subhead,\n",
    "            \"article URL\": article_url,\n",
    "            \"premium\": is_premium,\n",
    "            \"byline\": byline,\n",
    "            \"article type\": article_type,\n",
    "            \"image URL\": img_url\n",
    "        })\n",
    "\n",
    "    except Exception as e:\n",
    "        print(f\"error: {e}\")\n",
    "        continue\n",
    "\n",
    "df = pd.DataFrame(articles)\n",
    "df.head()"
   ]
  },
  {
   "cell_type": "code",
   "execution_count": 6,
   "id": "7d0d31ba-6533-4b19-896b-ce5b79c3316c",
   "metadata": {},
   "outputs": [
    {
     "data": {
      "text/plain": [
       "(25, 7)"
      ]
     },
     "execution_count": 6,
     "metadata": {},
     "output_type": "execute_result"
    }
   ],
   "source": [
    "df.shape"
   ]
  },
  {
   "cell_type": "code",
   "execution_count": 7,
   "id": "4846283f-c1c4-4e26-9dc4-8f044e365d0c",
   "metadata": {},
   "outputs": [
    {
     "name": "stdout",
     "output_type": "stream",
     "text": [
      "Saved Successfully.\n"
     ]
    }
   ],
   "source": [
    "df.to_csv(\"lemonde_articles.csv\", index=False)\n",
    "print(\"Saved Successfully.\")"
   ]
  },
  {
   "cell_type": "code",
   "execution_count": null,
   "id": "fbbdc7a2-f57a-43a1-ab86-ed1466ec7c6d",
   "metadata": {},
   "outputs": [],
   "source": []
  }
 ],
 "metadata": {
  "kernelspec": {
   "display_name": "Python 3 (ipykernel)",
   "language": "python",
   "name": "python3"
  },
  "language_info": {
   "codemirror_mode": {
    "name": "ipython",
    "version": 3
   },
   "file_extension": ".py",
   "mimetype": "text/x-python",
   "name": "python",
   "nbconvert_exporter": "python",
   "pygments_lexer": "ipython3",
   "version": "3.12.3"
  }
 },
 "nbformat": 4,
 "nbformat_minor": 5
}
