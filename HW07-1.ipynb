{
 "cells": [
  {
   "cell_type": "markdown",
   "id": "2e32d3aa-2a8d-4b76-85fa-8515b4fdbbd0",
   "metadata": {},
   "source": [
    "# Kensho Kuremoto\n",
    "## HW07-Part1 US presidents"
   ]
  },
  {
   "cell_type": "code",
   "execution_count": 1,
   "id": "7ead398e-509e-4063-8488-1a5a2c619da5",
   "metadata": {},
   "outputs": [
    {
     "name": "stdout",
     "output_type": "stream",
     "text": [
      "Requirement already satisfied: lxml in /Users/kensho/.pyenv/versions/3.12.3/lib/python3.12/site-packages (5.4.0)\n",
      "\n",
      "\u001b[1m[\u001b[0m\u001b[34;49mnotice\u001b[0m\u001b[1;39;49m]\u001b[0m\u001b[39;49m A new release of pip is available: \u001b[0m\u001b[31;49m24.0\u001b[0m\u001b[39;49m -> \u001b[0m\u001b[32;49m25.1.1\u001b[0m\n",
      "\u001b[1m[\u001b[0m\u001b[34;49mnotice\u001b[0m\u001b[1;39;49m]\u001b[0m\u001b[39;49m To update, run: \u001b[0m\u001b[32;49mpip install --upgrade pip\u001b[0m\n",
      "Note: you may need to restart the kernel to use updated packages.\n"
     ]
    }
   ],
   "source": [
    "pip install lxml"
   ]
  },
  {
   "cell_type": "code",
   "execution_count": 3,
   "id": "98f19644-dfe0-4413-b6b9-18775226dde3",
   "metadata": {},
   "outputs": [
    {
     "data": {
      "text/html": [
       "<div>\n",
       "<style scoped>\n",
       "    .dataframe tbody tr th:only-of-type {\n",
       "        vertical-align: middle;\n",
       "    }\n",
       "\n",
       "    .dataframe tbody tr th {\n",
       "        vertical-align: top;\n",
       "    }\n",
       "\n",
       "    .dataframe thead th {\n",
       "        text-align: right;\n",
       "    }\n",
       "</style>\n",
       "<table border=\"1\" class=\"dataframe\">\n",
       "  <thead>\n",
       "    <tr style=\"text-align: right;\">\n",
       "      <th></th>\n",
       "      <th>No.[a]</th>\n",
       "      <th>Portrait</th>\n",
       "      <th>Name (birth–death)</th>\n",
       "      <th>Term[16]</th>\n",
       "      <th>Party[b][17]</th>\n",
       "      <th>Party[b][17].1</th>\n",
       "      <th>Election</th>\n",
       "      <th>Vice President[18]</th>\n",
       "    </tr>\n",
       "  </thead>\n",
       "  <tbody>\n",
       "    <tr>\n",
       "      <th>0</th>\n",
       "      <td>1</td>\n",
       "      <td>NaN</td>\n",
       "      <td>George Washington (1732–1799) [19]</td>\n",
       "      <td>April 30, 1789 – March 4, 1797</td>\n",
       "      <td>NaN</td>\n",
       "      <td>Unaffiliated</td>\n",
       "      <td>1788–891792</td>\n",
       "      <td>John Adams[c]</td>\n",
       "    </tr>\n",
       "    <tr>\n",
       "      <th>1</th>\n",
       "      <td>2</td>\n",
       "      <td>NaN</td>\n",
       "      <td>John Adams (1735–1826) [21]</td>\n",
       "      <td>March 4, 1797 – March 4, 1801</td>\n",
       "      <td>NaN</td>\n",
       "      <td>Federalist</td>\n",
       "      <td>1796</td>\n",
       "      <td>Thomas Jefferson[d]</td>\n",
       "    </tr>\n",
       "    <tr>\n",
       "      <th>2</th>\n",
       "      <td>3</td>\n",
       "      <td>NaN</td>\n",
       "      <td>Thomas Jefferson (1743–1826) [23]</td>\n",
       "      <td>March 4, 1801 – March 4, 1809</td>\n",
       "      <td>NaN</td>\n",
       "      <td>Democratic- Republican</td>\n",
       "      <td>1800 1804</td>\n",
       "      <td>Aaron BurrGeorge Clinton</td>\n",
       "    </tr>\n",
       "    <tr>\n",
       "      <th>3</th>\n",
       "      <td>4</td>\n",
       "      <td>NaN</td>\n",
       "      <td>James Madison (1751–1836) [24]</td>\n",
       "      <td>March 4, 1809 – March 4, 1817</td>\n",
       "      <td>NaN</td>\n",
       "      <td>Democratic- Republican</td>\n",
       "      <td>18081812</td>\n",
       "      <td>George Clinton[e]Vacant after April 20, 1812El...</td>\n",
       "    </tr>\n",
       "    <tr>\n",
       "      <th>4</th>\n",
       "      <td>5</td>\n",
       "      <td>NaN</td>\n",
       "      <td>James Monroe (1758–1831) [26]</td>\n",
       "      <td>March 4, 1817 – March 4, 1825</td>\n",
       "      <td>NaN</td>\n",
       "      <td>Democratic- Republican</td>\n",
       "      <td>18161820</td>\n",
       "      <td>Daniel D. Tompkins</td>\n",
       "    </tr>\n",
       "  </tbody>\n",
       "</table>\n",
       "</div>"
      ],
      "text/plain": [
       "   No.[a]  Portrait                  Name (birth–death)  \\\n",
       "0       1       NaN  George Washington (1732–1799) [19]   \n",
       "1       2       NaN         John Adams (1735–1826) [21]   \n",
       "2       3       NaN   Thomas Jefferson (1743–1826) [23]   \n",
       "3       4       NaN      James Madison (1751–1836) [24]   \n",
       "4       5       NaN       James Monroe (1758–1831) [26]   \n",
       "\n",
       "                         Term[16]  Party[b][17]          Party[b][17].1  \\\n",
       "0  April 30, 1789 – March 4, 1797           NaN            Unaffiliated   \n",
       "1   March 4, 1797 – March 4, 1801           NaN              Federalist   \n",
       "2   March 4, 1801 – March 4, 1809           NaN  Democratic- Republican   \n",
       "3   March 4, 1809 – March 4, 1817           NaN  Democratic- Republican   \n",
       "4   March 4, 1817 – March 4, 1825           NaN  Democratic- Republican   \n",
       "\n",
       "      Election                                 Vice President[18]  \n",
       "0  1788–891792                                      John Adams[c]  \n",
       "1         1796                                Thomas Jefferson[d]  \n",
       "2    1800 1804                           Aaron BurrGeorge Clinton  \n",
       "3     18081812  George Clinton[e]Vacant after April 20, 1812El...  \n",
       "4     18161820                                 Daniel D. Tompkins  "
      ]
     },
     "execution_count": 3,
     "metadata": {},
     "output_type": "execute_result"
    }
   ],
   "source": [
    "import pandas as pd\n",
    "\n",
    "tables = pd.read_html(\"https://en.wikipedia.org/wiki/List_of_presidents_of_the_United_States\")\n",
    "\n",
    "df = tables[0]\n",
    "df.head()"
   ]
  },
  {
   "cell_type": "code",
   "execution_count": 4,
   "id": "6bfa03a8-ca68-4e26-b9c3-33a7a884e9cc",
   "metadata": {},
   "outputs": [
    {
     "data": {
      "text/plain": [
       "(47, 8)"
      ]
     },
     "execution_count": 4,
     "metadata": {},
     "output_type": "execute_result"
    }
   ],
   "source": [
    "df.shape"
   ]
  },
  {
   "cell_type": "code",
   "execution_count": 5,
   "id": "6d186b84-4054-4203-86ff-fa6881f3e335",
   "metadata": {},
   "outputs": [
    {
     "name": "stdout",
     "output_type": "stream",
     "text": [
      "Saved successfully.\n"
     ]
    }
   ],
   "source": [
    "df.to_csv(\"POTUS HW07-01.csv\", index=False)\n",
    "print(\"Saved successfully.\")"
   ]
  },
  {
   "cell_type": "code",
   "execution_count": null,
   "id": "0e184314-ec07-4586-b93d-81622c1d9f33",
   "metadata": {},
   "outputs": [],
   "source": []
  }
 ],
 "metadata": {
  "kernelspec": {
   "display_name": "Python 3 (ipykernel)",
   "language": "python",
   "name": "python3"
  },
  "language_info": {
   "codemirror_mode": {
    "name": "ipython",
    "version": 3
   },
   "file_extension": ".py",
   "mimetype": "text/x-python",
   "name": "python",
   "nbconvert_exporter": "python",
   "pygments_lexer": "ipython3",
   "version": "3.12.3"
  }
 },
 "nbformat": 4,
 "nbformat_minor": 5
}
